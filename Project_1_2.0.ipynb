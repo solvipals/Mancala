{
 "cells": [
  {
   "cell_type": "code",
   "execution_count": 29,
   "metadata": {},
   "outputs": [],
   "source": [
    "from Board import *\n",
    "from tree_generator import *\n",
    "from Game_Operations import *\n",
    "import copy\n"
   ]
  },
  {
   "cell_type": "code",
   "execution_count": 72,
   "metadata": {},
   "outputs": [],
   "source": [
    "state=initialize_game()"
   ]
  },
  {
   "cell_type": "code",
   "execution_count": 73,
   "metadata": {},
   "outputs": [
    {
     "data": {
      "text/plain": [
       "[4, 4, 4, 4, 4, 4, 0, 4, 4, 4, 4, 4, 4, 0, 1]"
      ]
     },
     "execution_count": 73,
     "metadata": {},
     "output_type": "execute_result"
    }
   ],
   "source": [
    "state"
   ]
  },
  {
   "cell_type": "code",
   "execution_count": 74,
   "metadata": {},
   "outputs": [],
   "source": [
    "def maxi(state,depth):\n",
    "    depth-=1\n",
    "    current_state=copy.deepcopy(state)\n",
    "    maxiv=-49\n",
    "    xi=None\n",
    "        \n",
    "    for option in getoptions(state):\n",
    "        state=copy.deepcopy(current_state)\n",
    "        state=move(state,option)\n",
    "        print(state)\n",
    "        if(finish_game(state)):\n",
    "            m=state[6]-state[13]\n",
    "        elif depth==0:\n",
    "            m=state[6]-state[13]\n",
    "            print(m)\n",
    "        elif state[14]==-1:\n",
    "            m,_mini(state,depth)\n",
    "        elif state[14]==1:\n",
    "            m,_=maxi(state,depth)\n",
    "        if m > maxiv:\n",
    "            maxiv = m\n",
    "            xi = option\n",
    "\n",
    "\n",
    "            \n",
    "    return maxiv,xi"
   ]
  },
  {
   "cell_type": "code",
   "execution_count": 75,
   "metadata": {},
   "outputs": [],
   "source": [
    "def mini(state,depth):\n",
    "    depth-=1\n",
    "    current_state=copy.deepcopy(state)\n",
    "    miniv=49\n",
    "    xi=None\n",
    "    \n",
    "    for option in getoptions(state):\n",
    "        state=copy.deepcopy(current_state)\n",
    "        state=move(state,option)\n",
    "        print(state)\n",
    "        if(finish_game(state)):\n",
    "            m=state[6]-state[13]\n",
    "        elif depth==0:\n",
    "            m=state[6]-state[13]\n",
    "            print(m)\n",
    "        elif state[14]==-1:\n",
    "            m,_=mini(state,depth)\n",
    "        elif state[14]==1:\n",
    "            m,_=maxi(state,depth)\n",
    "        if m < miniv:\n",
    "            miniv = m\n",
    "            xi = option\n",
    "\n",
    "\n",
    "            \n",
    "    return miniv,xi"
   ]
  },
  {
   "cell_type": "code",
   "execution_count": 78,
   "metadata": {},
   "outputs": [
    {
     "name": "stdout",
     "output_type": "stream",
     "text": [
      "[0, 5, 5, 5, 5, 4, 0, 4, 4, 4, 4, 4, 4, 0, -1]\n",
      "0\n",
      "[4, 0, 5, 5, 5, 5, 0, 4, 4, 4, 4, 4, 4, 0, -1]\n",
      "0\n",
      "[4, 4, 0, 5, 5, 5, 1, 4, 4, 4, 4, 4, 4, 0, 1]\n",
      "1\n",
      "[4, 4, 4, 0, 5, 5, 1, 5, 4, 4, 4, 4, 4, 0, -1]\n",
      "1\n",
      "[4, 4, 4, 4, 0, 5, 1, 5, 5, 4, 4, 4, 4, 0, -1]\n",
      "1\n",
      "[4, 4, 4, 4, 4, 0, 1, 5, 5, 5, 4, 4, 4, 0, -1]\n",
      "1\n"
     ]
    },
    {
     "data": {
      "text/plain": [
       "(1, 2)"
      ]
     },
     "execution_count": 78,
     "metadata": {},
     "output_type": "execute_result"
    }
   ],
   "source": [
    "maxi(state,1)"
   ]
  },
  {
   "cell_type": "code",
   "execution_count": 79,
   "metadata": {},
   "outputs": [
    {
     "name": "stdout",
     "output_type": "stream",
     "text": [
      "|--4--4--4--4--4--4--|\n",
      "|0------------------0|\n",
      "|--4--0--5--5--5--5--|\n",
      "The score of the board is:0\n"
     ]
    },
    {
     "data": {
      "text/plain": [
       "[4, 0, 5, 5, 5, 5, 0, 4, 4, 4, 4, 4, 4, 0, -1]"
      ]
     },
     "execution_count": 79,
     "metadata": {},
     "output_type": "execute_result"
    }
   ],
   "source": [
    "move(state,1)\n",
    "print_state(state)\n",
    "state"
   ]
  },
  {
   "cell_type": "code",
   "execution_count": 81,
   "metadata": {
    "scrolled": true
   },
   "outputs": [
    {
     "name": "stdout",
     "output_type": "stream",
     "text": [
      "[4, 0, 5, 5, 5, 5, 0, 0, 5, 5, 5, 5, 4, 0, 1]\n",
      "[0, 1, 6, 6, 6, 5, 0, 0, 5, 5, 5, 5, 4, 0, -1]\n",
      "0\n",
      "[4, 0, 0, 6, 6, 6, 1, 1, 5, 5, 5, 5, 4, 0, -1]\n",
      "1\n",
      "[4, 0, 5, 0, 6, 6, 1, 1, 6, 5, 5, 5, 4, 0, -1]\n",
      "1\n",
      "[4, 0, 5, 5, 0, 6, 1, 1, 6, 6, 5, 5, 4, 0, -1]\n",
      "1\n",
      "[4, 0, 5, 5, 5, 0, 1, 1, 6, 6, 6, 5, 4, 0, -1]\n",
      "1\n",
      "[4, 0, 5, 5, 5, 5, 0, 4, 0, 5, 5, 5, 5, 0, 1]\n",
      "[0, 1, 6, 6, 6, 5, 0, 4, 0, 5, 5, 5, 5, 0, -1]\n",
      "0\n",
      "[4, 0, 0, 6, 6, 6, 1, 5, 0, 5, 5, 5, 5, 0, -1]\n",
      "1\n",
      "[4, 0, 5, 0, 6, 6, 1, 5, 1, 5, 5, 5, 5, 0, -1]\n",
      "1\n",
      "[4, 0, 5, 5, 0, 6, 1, 5, 1, 6, 5, 5, 5, 0, -1]\n",
      "1\n",
      "[4, 0, 5, 5, 5, 0, 1, 5, 1, 6, 6, 5, 5, 0, -1]\n",
      "1\n",
      "[4, 0, 5, 5, 5, 5, 0, 4, 4, 0, 5, 5, 5, 1, -1]\n",
      "[4, 0, 5, 5, 5, 5, 0, 0, 5, 1, 6, 6, 5, 1, 1]\n",
      "-1\n",
      "[4, 0, 5, 5, 5, 5, 0, 4, 0, 1, 6, 6, 6, 1, 1]\n",
      "-1\n",
      "[5, 1, 5, 5, 5, 5, 0, 4, 4, 0, 0, 6, 6, 2, 1]\n",
      "-2\n",
      "[5, 1, 6, 5, 5, 5, 0, 4, 4, 0, 5, 0, 6, 2, 1]\n",
      "-2\n",
      "[5, 1, 6, 6, 5, 5, 0, 4, 4, 0, 5, 5, 0, 2, 1]\n",
      "-2\n",
      "[5, 0, 5, 5, 5, 5, 0, 4, 4, 4, 0, 5, 5, 1, 1]\n",
      "[0, 1, 6, 6, 6, 6, 0, 4, 4, 4, 0, 5, 5, 1, -1]\n",
      "-1\n",
      "[5, 0, 0, 6, 6, 6, 1, 5, 4, 4, 0, 5, 5, 1, -1]\n",
      "0\n",
      "[5, 0, 5, 0, 6, 6, 1, 5, 5, 4, 0, 5, 5, 1, -1]\n",
      "0\n",
      "[5, 0, 5, 5, 0, 6, 1, 5, 5, 5, 0, 5, 5, 1, -1]\n",
      "0\n",
      "[5, 0, 5, 5, 5, 0, 1, 5, 5, 5, 1, 5, 5, 1, -1]\n",
      "0\n",
      "[5, 1, 5, 5, 5, 5, 0, 4, 4, 4, 4, 0, 5, 1, 1]\n",
      "[0, 2, 6, 6, 6, 6, 0, 4, 4, 4, 4, 0, 5, 1, -1]\n",
      "-1\n",
      "[5, 0, 6, 5, 5, 5, 0, 4, 4, 4, 4, 0, 5, 1, -1]\n",
      "-1\n",
      "[5, 1, 0, 6, 6, 6, 1, 5, 4, 4, 4, 0, 5, 1, -1]\n",
      "0\n",
      "[5, 1, 5, 0, 6, 6, 1, 5, 5, 4, 4, 0, 5, 1, -1]\n",
      "0\n",
      "[5, 1, 5, 5, 0, 6, 1, 5, 5, 5, 4, 0, 5, 1, -1]\n",
      "0\n",
      "[5, 1, 5, 5, 5, 0, 1, 5, 5, 5, 5, 0, 5, 1, -1]\n",
      "0\n",
      "[5, 1, 6, 5, 5, 5, 0, 4, 4, 4, 4, 4, 0, 1, 1]\n",
      "[0, 2, 7, 6, 6, 6, 0, 4, 4, 4, 4, 4, 0, 1, -1]\n",
      "-1\n",
      "[5, 0, 7, 5, 5, 5, 0, 4, 4, 4, 4, 4, 0, 1, -1]\n",
      "-1\n",
      "[5, 1, 0, 6, 6, 6, 1, 5, 5, 4, 4, 4, 0, 1, -1]\n",
      "0\n",
      "[5, 1, 6, 0, 6, 6, 1, 5, 5, 4, 4, 4, 0, 1, -1]\n",
      "0\n",
      "[5, 1, 6, 5, 0, 6, 1, 5, 5, 5, 4, 4, 0, 1, -1]\n",
      "0\n",
      "[5, 1, 6, 5, 5, 0, 1, 5, 5, 5, 5, 4, 0, 1, -1]\n",
      "0\n"
     ]
    },
    {
     "data": {
      "text/plain": [
       "(-2, 9)"
      ]
     },
     "execution_count": 81,
     "metadata": {},
     "output_type": "execute_result"
    }
   ],
   "source": [
    "mini(state,2)"
   ]
  },
  {
   "cell_type": "code",
   "execution_count": null,
   "metadata": {},
   "outputs": [],
   "source": []
  }
 ],
 "metadata": {
  "kernelspec": {
   "display_name": "Python 3",
   "language": "python",
   "name": "python3"
  },
  "language_info": {
   "codemirror_mode": {
    "name": "ipython",
    "version": 3
   },
   "file_extension": ".py",
   "mimetype": "text/x-python",
   "name": "python",
   "nbconvert_exporter": "python",
   "pygments_lexer": "ipython3",
   "version": "3.7.3"
  }
 },
 "nbformat": 4,
 "nbformat_minor": 2
}
