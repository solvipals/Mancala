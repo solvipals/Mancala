{
 "cells": [
  {
   "cell_type": "code",
   "execution_count": 2,
   "metadata": {},
   "outputs": [],
   "source": [
    "from Board import *\n",
    "from tree_generator import *\n",
    "from Game_Operations import *\n"
   ]
  },
  {
   "cell_type": "code",
   "execution_count": null,
   "metadata": {},
   "outputs": [
    {
     "name": "stdout",
     "output_type": "stream",
     "text": [
      "Choose difficulty level from 1-8\n",
      "Choose difficulty level from 1-8\n",
      "9\n",
      "Invalid input\n",
      "Choose difficulty level from 1-8\n",
      "0\n",
      "Invalid input\n",
      "Choose difficulty level from 1-8\n",
      "5\n",
      "|--4--4--4--4--4--4--|\n",
      "|0------------------0|\n",
      "|--4--4--4--4--4--4--|\n",
      "The score of the board is:0\n",
      "Player 1's turn\n",
      "Choose your master\n"
     ]
    }
   ],
   "source": [
    "# Eftir ad skrifa main \n",
    "\n",
    "from Board import *\n",
    "from Game_Operations import *\n",
    "\n",
    "state = initialize_game()\n",
    "\n",
    "depth=0\n",
    "while depth<=0 or depth>8:\n",
    "    print(\"Choose difficulty level from 1-8\")\n",
    "    depth=int(input())\n",
    "    if depth<=0 or depth>8:\n",
    "        print(\"Invalid input\")\n",
    "        \n",
    "\n",
    "\n",
    "while (not finish_game(state)):\n",
    "    print_state(state)\n",
    "    \n",
    "    if state[14]==1:\n",
    "        print(\"Player 1's turn\")\n",
    "\n",
    "        print(\"Choose your master\")\n",
    "        choice = int(input())\n",
    "\n",
    "        if move(state, choice) == []:\n",
    "            print(\"This move is not valid. Please choose another one\")\n",
    "        else:\n",
    "            move(state, choice)\n",
    "\n",
    "    elif state[14]==-1:\n",
    "        state_tree=tree_state_generator(state,depth)\n",
    "        score_tree=score_tree_generator(state_tree,depth)\n",
    "        #print(state_tree)\n",
    "        print(score_tree[0])\n",
    "        best_move=int(score_tree[0].index(np.nanmin(score_tree[0])))\n",
    "        move(state,best_move+7)\n",
    "        #print(\"Player2's turn\") \n",
    "    \n",
    "print_state(state)\n",
    "print('%%%%%%%%%%%%%%%%%%%%%%%%%%%%%%%%%%%')\n",
    "print('%                                 %')\n",
    "print('%%%%%%%%%%%  GAME OVER %%%%%%%%%%%%')\n",
    "print('%                                 %')\n",
    "print('%%%%%%%%%%%%%%%%%%%%%%%%%%%%%%%%%%%') "
   ]
  },
  {
   "cell_type": "code",
   "execution_count": 3,
   "metadata": {},
   "outputs": [
    {
     "data": {
      "text/plain": [
       "[0, 0, 0, 0, 0, 0, 29, 0, 0, 0, 0, 0, 0, 19, -1]"
      ]
     },
     "execution_count": 3,
     "metadata": {},
     "output_type": "execute_result"
    }
   ],
   "source": [
    "state"
   ]
  },
  {
   "cell_type": "code",
   "execution_count": 4,
   "metadata": {},
   "outputs": [
    {
     "name": "stdout",
     "output_type": "stream",
     "text": [
      "|--0--0--0--0--0--0--|\n",
      "|19------------------29|\n",
      "|--0--0--0--0--0--0--|\n",
      "The score of the board is:10\n"
     ]
    }
   ],
   "source": [
    "print_state(state)"
   ]
  }
 ],
 "metadata": {
  "kernelspec": {
   "display_name": "Python 3",
   "language": "python",
   "name": "python3"
  },
  "language_info": {
   "codemirror_mode": {
    "name": "ipython",
    "version": 3
   },
   "file_extension": ".py",
   "mimetype": "text/x-python",
   "name": "python",
   "nbconvert_exporter": "python",
   "pygments_lexer": "ipython3",
   "version": "3.7.3"
  }
 },
 "nbformat": 4,
 "nbformat_minor": 2
}
